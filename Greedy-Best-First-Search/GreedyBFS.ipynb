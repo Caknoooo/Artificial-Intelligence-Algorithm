{
 "cells": [
  {
   "cell_type": "code",
   "execution_count": 84,
   "metadata": {},
   "outputs": [],
   "source": [
    "import heapq\n",
    "romania = {}"
   ]
  },
  {
   "cell_type": "code",
   "execution_count": 85,
   "metadata": {},
   "outputs": [],
   "source": [
    "class PriorityQueue:\n",
    "    def __init__(self) -> None:\n",
    "        self.cities = []\n",
    "    \n",
    "    def isEmpty(self): \n",
    "        if self.cities == []: \n",
    "            return True\n",
    "        return False\n",
    "\n",
    "    def check(self):\n",
    "        print(self.cities)\n",
    "\n",
    "    def push(self, city, cost):\n",
    "        heapq.heappush(self.cities, (cost, city)) \n",
    "\n",
    "    def pop(self):\n",
    "        return heapq.heappop(self.cities)[1]"
   ]
  },
  {
   "cell_type": "code",
   "execution_count": 86,
   "metadata": {},
   "outputs": [],
   "source": [
    "class cityNode:\n",
    "    def __init__(self, city, distance) -> None:\n",
    "        self.city = str(city)\n",
    "        self.distance = str(distance)"
   ]
  },
  {
   "cell_type": "code",
   "execution_count": 87,
   "metadata": {},
   "outputs": [],
   "source": [
    "def makeDict():\n",
    "    file = open(\"Jalan.txt\", \"r\")\n",
    "    for str in file: \n",
    "        delimeter = str.split(',')\n",
    "        city1 = delimeter[0].strip()\n",
    "        city2 = delimeter[1].strip()\n",
    "        dist = delimeter[2]\n",
    "        romania.setdefault(city1, []).append(cityNode(city2, dist))\n",
    "        romania.setdefault(city2, []).append(cityNode(city1, dist))"
   ]
  },
  {
   "cell_type": "code",
   "execution_count": 88,
   "metadata": {},
   "outputs": [],
   "source": [
    "def makeHeuristicDict(): \n",
    "    h = {}\n",
    "    file = open(\"Heuristic.txt\", \"r\")\n",
    "    for str in file:\n",
    "        delimeter = str.strip().split(',')\n",
    "        node = delimeter[0].strip()\n",
    "        sld  = int(delimeter[1].strip())\n",
    "        h[node] = sld\n",
    "    return h\n",
    "\n",
    "def heuristic(node, values):\n",
    "    return values[node]"
   ]
  },
  {
   "cell_type": "code",
   "execution_count": 89,
   "metadata": {},
   "outputs": [],
   "source": [
    "def greedyBFS(start, end):\n",
    "    path = {}\n",
    "    distance = {}\n",
    "    q = PriorityQueue()\n",
    "    h = makeHeuristicDict()\n",
    "\n",
    "    q.push(start, 0)\n",
    "    path[start] = None\n",
    "    distance[start] = 0\n",
    "    expandList = []\n",
    "    total_distance = 0\n",
    "\n",
    "    while q.isEmpty() == False:\n",
    "        curr = q.pop()\n",
    "        expandList.append(curr)\n",
    "\n",
    "        if curr == end: \n",
    "            break\n",
    "        \n",
    "        for new in romania[curr]:\n",
    "            if new.city not in path:\n",
    "                f_cost = heuristic(new.city, h)\n",
    "                q.push(new.city, f_cost)\n",
    "                path[new.city] = curr\n",
    "                distance[new.city] = distance[curr] + int(new.distance)\n",
    "                total_distance = distance[new.city]\n",
    "        \n",
    "    printOutput(start, end, path, expandList, total_distance)\n",
    "\n",
    "def printOutput(start, end, path, expandList, total_distance):\n",
    "    finalpath = []\n",
    "    i = end\n",
    "\n",
    "    while (path.get(i) != None):\n",
    "        finalpath.append(i)\n",
    "        i = path[i]\n",
    "    finalpath.append(start)\n",
    "    finalpath.reverse()\n",
    "\n",
    "    print(\"Membuat Program Greedy Best-First-Search Sederhana\")\n",
    "    print(\"\\t{} => {}\".format(start, end))\n",
    "    print(\"==============================================================================================================\")\n",
    "    print(\"Kota yg mungkin dijelajah \\t\\t\\t: \" + str(expandList))\n",
    "    print(\"Jumlah kemungkinan kota \\t\\t\\t: \" + str(len(expandList)))\n",
    "    print(\"==============================================================================================================\")\n",
    "    print(\"Kota yg dilewati dg jarak terpendek\\t\\t: \" + str(finalpath))\n",
    "    print(\"Jumlah kota yang dilewati \\t\\t\\t: \" + str(len(finalpath)))\n",
    "    print(\"Jarak terpendek dari {} ke {} adalah \\t: {}\".format(start, end, str(total_distance)))\n",
    "    print(\"==============================================================================================================\")\n",
    "    "
   ]
  },
  {
   "cell_type": "code",
   "execution_count": 90,
   "metadata": {},
   "outputs": [
    {
     "name": "stdout",
     "output_type": "stream",
     "text": [
      "Membuat Program Greedy Best-First-Search Sederhana\n",
      "\tSurabaya => Tulungagung\n",
      "==============================================================================================================\n",
      "Kota yg mungkin dijelajah \t\t\t: ['Surabaya', 'Gresik', 'Tuban', 'Rembang', 'Demak', 'Mojokerto', 'Jombang', 'Ponorogo', 'Malang', 'Kediri', 'Klaten', 'Tulungagung']\n",
      "Jumlah kemungkinan kota \t\t\t: 12\n",
      "==============================================================================================================\n",
      "Kota yg dilewati dg jarak terpendek\t\t: ['Surabaya', 'Gresik', 'Tuban', 'Mojokerto', 'Jombang', 'Malang', 'Kediri', 'Klaten', 'Tulungagung']\n",
      "Jumlah kota yang dilewati \t\t\t: 9\n",
      "Jarak terpendek dari Surabaya ke Tulungagung adalah \t: 1098\n",
      "==============================================================================================================\n"
     ]
    }
   ],
   "source": [
    "def main():\n",
    "    src = \"Surabaya\"\n",
    "    dst = \"Tulungagung\"\n",
    "    makeDict()\n",
    "    greedyBFS(src, dst)\n",
    "\n",
    "if __name__ == \"__main__\":\n",
    "    main()"
   ]
  }
 ],
 "metadata": {
  "kernelspec": {
   "display_name": "Python 3",
   "language": "python",
   "name": "python3"
  },
  "language_info": {
   "codemirror_mode": {
    "name": "ipython",
    "version": 3
   },
   "file_extension": ".py",
   "mimetype": "text/x-python",
   "name": "python",
   "nbconvert_exporter": "python",
   "pygments_lexer": "ipython3",
   "version": "3.11.1"
  },
  "orig_nbformat": 4
 },
 "nbformat": 4,
 "nbformat_minor": 2
}
