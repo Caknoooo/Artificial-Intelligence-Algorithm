{
 "cells": [
  {
   "cell_type": "code",
   "execution_count": 4,
   "metadata": {},
   "outputs": [],
   "source": [
    "import heapq\n",
    "romania = {}"
   ]
  },
  {
   "cell_type": "code",
   "execution_count": 9,
   "metadata": {},
   "outputs": [
    {
     "ename": "SyntaxError",
     "evalue": "incomplete input (1549397852.py, line 16)",
     "output_type": "error",
     "traceback": [
      "\u001b[1;36m  Cell \u001b[1;32mIn [9], line 16\u001b[1;36m\u001b[0m\n\u001b[1;33m    def pop(self):\u001b[0m\n\u001b[1;37m                  ^\u001b[0m\n\u001b[1;31mSyntaxError\u001b[0m\u001b[1;31m:\u001b[0m incomplete input\n"
     ]
    }
   ],
   "source": [
    "class PriorityQueue: \n",
    "    def __init__(self) -> None:\n",
    "        self.cities = []\n",
    "    \n",
    "    def isEmpty(self): \n",
    "        if self.cities == []:\n",
    "            return True\n",
    "        return False\n",
    "    \n",
    "    def check(self):\n",
    "        print(self.cities)\n",
    "\n",
    "    def push(self, city, cost):\n",
    "        heapq.heappush(self.cities, (cost, city))\n",
    "      \n",
    "    def pop(self):\n",
    "        return heapq.heappop(self.cities)[1]"
   ]
  },
  {
   "cell_type": "code",
   "execution_count": 7,
   "metadata": {},
   "outputs": [],
   "source": [
    "class cityNode:\n",
    "    def __init__(self, city, distance) -> None:\n",
    "        self.city = str(city)\n",
    "        self.distance = str(distance) "
   ]
  },
  {
   "cell_type": "code",
   "execution_count": null,
   "metadata": {},
   "outputs": [],
   "source": [
    "def makeDict():\n",
    "    file = open(\"Heuristic.txt\", \"r\")\n",
    "    for str in file:\n",
    "        delimeter = str.strip().split(',')\n",
    "        node = delimeter[0].strip()\n",
    "        sld = (delimeter[1].strip())"
   ]
  }
 ],
 "metadata": {
  "kernelspec": {
   "display_name": "Python 3",
   "language": "python",
   "name": "python3"
  },
  "language_info": {
   "codemirror_mode": {
    "name": "ipython",
    "version": 3
   },
   "file_extension": ".py",
   "mimetype": "text/x-python",
   "name": "python",
   "nbconvert_exporter": "python",
   "pygments_lexer": "ipython3",
   "version": "3.11.1"
  },
  "orig_nbformat": 4
 },
 "nbformat": 4,
 "nbformat_minor": 2
}
